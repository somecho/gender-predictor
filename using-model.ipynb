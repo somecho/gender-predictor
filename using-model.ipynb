{
 "cells": [
  {
   "cell_type": "code",
   "execution_count": 1,
   "id": "0623ab52",
   "metadata": {},
   "outputs": [
    {
     "name": "stderr",
     "output_type": "stream",
     "text": [
      "2023-03-23 11:34:18.164462: I tensorflow/core/platform/cpu_feature_guard.cc:193] This TensorFlow binary is optimized with oneAPI Deep Neural Network Library (oneDNN) to use the following CPU instructions in performance-critical operations:  AVX2 FMA\n",
      "To enable them in other operations, rebuild TensorFlow with the appropriate compiler flags.\n",
      "2023-03-23 11:34:18.901919: W tensorflow/compiler/xla/stream_executor/platform/default/dso_loader.cc:64] Could not load dynamic library 'libcudart.so.11.0'; dlerror: libcudart.so.11.0: cannot open shared object file: No such file or directory\n",
      "2023-03-23 11:34:18.902045: I tensorflow/compiler/xla/stream_executor/cuda/cudart_stub.cc:29] Ignore above cudart dlerror if you do not have a GPU set up on your machine.\n",
      "2023-03-23 11:34:20.282212: W tensorflow/compiler/xla/stream_executor/platform/default/dso_loader.cc:64] Could not load dynamic library 'libnvinfer.so.7'; dlerror: libnvinfer.so.7: cannot open shared object file: No such file or directory\n",
      "2023-03-23 11:34:20.282516: W tensorflow/compiler/xla/stream_executor/platform/default/dso_loader.cc:64] Could not load dynamic library 'libnvinfer_plugin.so.7'; dlerror: libnvinfer_plugin.so.7: cannot open shared object file: No such file or directory\n",
      "2023-03-23 11:34:20.282526: W tensorflow/compiler/tf2tensorrt/utils/py_utils.cc:38] TF-TRT Warning: Cannot dlopen some TensorRT libraries. If you would like to use Nvidia GPU with TensorRT, please make sure the missing libraries mentioned above are installed properly.\n"
     ]
    }
   ],
   "source": [
    "from keras.utils import pad_sequences\n",
    "from keras.models import load_model\n",
    "import sklearn.metrics as metrics\n",
    "import pickle"
   ]
  },
  {
   "cell_type": "code",
   "execution_count": 2,
   "id": "057b8993",
   "metadata": {},
   "outputs": [
    {
     "name": "stderr",
     "output_type": "stream",
     "text": [
      "2023-03-23 11:34:21.833524: I tensorflow/compiler/xla/stream_executor/cuda/cuda_gpu_executor.cc:967] could not open file to read NUMA node: /sys/bus/pci/devices/0000:01:00.0/numa_node\n",
      "Your kernel may have been built without NUMA support.\n",
      "2023-03-23 11:34:21.833807: W tensorflow/compiler/xla/stream_executor/platform/default/dso_loader.cc:64] Could not load dynamic library 'libcudart.so.11.0'; dlerror: libcudart.so.11.0: cannot open shared object file: No such file or directory\n",
      "2023-03-23 11:34:21.833986: W tensorflow/compiler/xla/stream_executor/platform/default/dso_loader.cc:64] Could not load dynamic library 'libcublas.so.11'; dlerror: libcublas.so.11: cannot open shared object file: No such file or directory\n",
      "2023-03-23 11:34:21.834080: W tensorflow/compiler/xla/stream_executor/platform/default/dso_loader.cc:64] Could not load dynamic library 'libcublasLt.so.11'; dlerror: libcublasLt.so.11: cannot open shared object file: No such file or directory\n",
      "2023-03-23 11:34:21.834136: W tensorflow/compiler/xla/stream_executor/platform/default/dso_loader.cc:64] Could not load dynamic library 'libcufft.so.10'; dlerror: libcufft.so.10: cannot open shared object file: No such file or directory\n",
      "2023-03-23 11:34:22.094192: W tensorflow/compiler/xla/stream_executor/platform/default/dso_loader.cc:64] Could not load dynamic library 'libcusparse.so.11'; dlerror: libcusparse.so.11: cannot open shared object file: No such file or directory\n",
      "2023-03-23 11:34:22.094306: W tensorflow/compiler/xla/stream_executor/platform/default/dso_loader.cc:64] Could not load dynamic library 'libcudnn.so.8'; dlerror: libcudnn.so.8: cannot open shared object file: No such file or directory\n",
      "2023-03-23 11:34:22.094388: W tensorflow/core/common_runtime/gpu/gpu_device.cc:1934] Cannot dlopen some GPU libraries. Please make sure the missing libraries mentioned above are installed properly if you would like to use GPU. Follow the guide at https://www.tensorflow.org/install/gpu for how to download and setup the required libraries for your platform.\n",
      "Skipping registering GPU devices...\n",
      "2023-03-23 11:34:22.095381: I tensorflow/core/platform/cpu_feature_guard.cc:193] This TensorFlow binary is optimized with oneAPI Deep Neural Network Library (oneDNN) to use the following CPU instructions in performance-critical operations:  AVX2 FMA\n",
      "To enable them in other operations, rebuild TensorFlow with the appropriate compiler flags.\n"
     ]
    }
   ],
   "source": [
    "tokenizer = pickle.load(open('tokenizer.pkl','rb+'))\n",
    "model = load_model('model.h5')"
   ]
  },
  {
   "cell_type": "code",
   "execution_count": 3,
   "id": "fdfcda39",
   "metadata": {},
   "outputs": [],
   "source": [
    "def tokenize(name):\n",
    "  q=tokenizer.texts_to_sequences(name)\n",
    "  q=[i[0] for i in q]\n",
    "  q1=[]\n",
    "  q1.append(q)\n",
    "  s=pad_sequences(q1,maxlen=15,padding='post')\n",
    "  return s\n",
    "\n",
    "def decode(prediction):\n",
    "    result = 0 if prediction[0][0] > prediction[0][1] else 1\n",
    "    return result\n",
    "\n",
    "def gender(name):\n",
    "    sequences=tokenize(name)\n",
    "    predict=model.predict(sequences)\n",
    "    return decode(predict)\n",
    "\n",
    "genderLUT = [\"female\",\"male\"]"
   ]
  },
  {
   "cell_type": "code",
   "execution_count": 5,
   "id": "8f3ef0fb",
   "metadata": {},
   "outputs": [
    {
     "name": "stdout",
     "output_type": "stream",
     "text": [
      "1/1 [==============================] - 1s 1s/step\n",
      "Frank is predicted to be male\n",
      "1/1 [==============================] - 0s 101ms/step\n",
      "Melody is predicted to be male\n",
      "1/1 [==============================] - 0s 87ms/step\n",
      "Hubert is predicted to be female\n",
      "1/1 [==============================] - 0s 91ms/step\n",
      "Alex is predicted to be female\n",
      "1/1 [==============================] - 0s 88ms/step\n",
      "Sasha is predicted to be female\n",
      "1/1 [==============================] - 0s 91ms/step\n",
      "Gabriel is predicted to be male\n",
      "1/1 [==============================] - 0s 91ms/step\n",
      "Ping is predicted to be male\n",
      "1/1 [==============================] - 0s 92ms/step\n",
      "May is predicted to be male\n",
      "1/1 [==============================] - 0s 95ms/step\n",
      "June is predicted to be male\n",
      "1/1 [==============================] - 0s 93ms/step\n",
      "July is predicted to be male\n",
      "1/1 [==============================] - 0s 87ms/step\n",
      "August is predicted to be female\n",
      "1/1 [==============================] - 0s 85ms/step\n",
      "Ghyslain is predicted to be female\n",
      "1/1 [==============================] - 0s 89ms/step\n",
      "Michelle is predicted to be female\n",
      "1/1 [==============================] - 0s 88ms/step\n",
      "Marcel is predicted to be male\n",
      "1/1 [==============================] - 0s 87ms/step\n",
      "Marcela is predicted to be female\n",
      "1/1 [==============================] - 0s 86ms/step\n",
      "Latifah is predicted to be female\n",
      "1/1 [==============================] - 0s 87ms/step\n",
      "Abdul is predicted to be male\n",
      "1/1 [==============================] - 0s 91ms/step\n",
      "Rahman is predicted to be male\n",
      "1/1 [==============================] - 0s 90ms/step\n",
      "Anisa is predicted to be female\n",
      "1/1 [==============================] - 0s 88ms/step\n",
      "Najeeha is predicted to be female\n",
      "1/1 [==============================] - 0s 89ms/step\n",
      "Patricia is predicted to be female\n",
      "1/1 [==============================] - 0s 92ms/step\n",
      "Nor is predicted to be male\n"
     ]
    }
   ],
   "source": [
    "names = [\"Frank\",\"Melody\",\"Hubert\",\"Alex\",\"Sasha\",\"Gabriel\",\"Ping\",\"May\",\"June\",\"July\",\"August\",\"Ghyslain\",\"Michelle\",\"Marcel\",\"Marcela\",\"Latifah\",\"Abdul\",\"Rahman\",\"Anisa\",\"Najeeha\",\"Patricia\",\"Nor\"]\n",
    "for n in names:\n",
    "    g = genderLUT[gender(n)]\n",
    "    print(f\"{n} is predicted to be {g}\")"
   ]
  }
 ],
 "metadata": {
  "kernelspec": {
   "display_name": "Python 3 (ipykernel)",
   "language": "python",
   "name": "python3"
  },
  "language_info": {
   "codemirror_mode": {
    "name": "ipython",
    "version": 3
   },
   "file_extension": ".py",
   "mimetype": "text/x-python",
   "name": "python",
   "nbconvert_exporter": "python",
   "pygments_lexer": "ipython3",
   "version": "3.9.2"
  }
 },
 "nbformat": 4,
 "nbformat_minor": 5
}
