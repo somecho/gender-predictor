{
 "cells": [
  {
   "cell_type": "code",
   "execution_count": null,
   "id": "0623ab52",
   "metadata": {},
   "outputs": [],
   "source": [
    "from keras.utils import pad_sequences\n",
    "from keras.models import load_model\n",
    "import sklearn.metrics as metrics\n",
    "import pickle"
   ]
  },
  {
   "cell_type": "code",
   "execution_count": null,
   "id": "057b8993",
   "metadata": {},
   "outputs": [],
   "source": [
    "tokenizer = pickle.load(open('tokenizer.pkl','rb+'))\n",
    "model = load_model('model.h5')"
   ]
  },
  {
   "cell_type": "code",
   "execution_count": null,
   "id": "fdfcda39",
   "metadata": {},
   "outputs": [],
   "source": [
    "def tokenize(name):\n",
    "  q=tokenizer.texts_to_sequences(name)\n",
    "  q=[i[0] for i in q]\n",
    "  q1=[]\n",
    "  q1.append(q)\n",
    "  s=pad_sequences(q1,maxlen=15,padding='post')\n",
    "  return s\n",
    "\n",
    "def decode(prediction):\n",
    "    result = 0 if prediction[0][0] > prediction[0][1] else 1\n",
    "    return result\n",
    "\n",
    "def gender(name):\n",
    "    sequences=tokenize(name)\n",
    "    predict=model.predict(sequences)\n",
    "    return decode(predict)\n",
    "\n",
    "genders = [\"female\",\"male\"]"
   ]
  },
  {
   "cell_type": "code",
   "execution_count": null,
   "id": "8f3ef0fb",
   "metadata": {},
   "outputs": [],
   "source": [
    "names = [\"Frank\",\"Melody\",\"Hubert\",\"Alex\",\"Sasha\",\"Gabriel\",\"Ping\",\"May\",\"June\",\"July\",\"August\",\"Ghyslain\",\"Michelle\",\"Marcel\",\"Marcela\",\"Latifah\",\"Abdul\",\"Rahman\",\"Anisa\",\"Najeeha\",\"Patricia\",\"Nor\"]\n",
    "for n in names:\n",
    "    g = genders[gender(n)]\n",
    "    print(f\"{n} is predicted to be {g}\")"
   ]
  }
 ],
 "metadata": {
  "kernelspec": {
   "display_name": "Python 3 (ipykernel)",
   "language": "python",
   "name": "python3"
  },
  "language_info": {
   "codemirror_mode": {
    "name": "ipython",
    "version": 3
   },
   "file_extension": ".py",
   "mimetype": "text/x-python",
   "name": "python",
   "nbconvert_exporter": "python",
   "pygments_lexer": "ipython3",
   "version": "3.9.2"
  }
 },
 "nbformat": 4,
 "nbformat_minor": 5
}
