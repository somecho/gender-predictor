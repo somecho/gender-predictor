{
 "cells": [
  {
   "cell_type": "markdown",
   "id": "a115c295",
   "metadata": {},
   "source": [
    "# Preprocessing Data\n",
    "1. Import data from three different datasets\n",
    "2. Concatenate the data\n",
    "3. Remove duplicates and nulls from dataset"
   ]
  },
  {
   "cell_type": "code",
   "execution_count": null,
   "id": "01afae54",
   "metadata": {},
   "outputs": [],
   "source": [
    "import polars as pl"
   ]
  },
  {
   "cell_type": "code",
   "execution_count": null,
   "id": "67d7cb3e",
   "metadata": {},
   "outputs": [],
   "source": [
    "dataset1 = pl.read_csv(\"./datasets/names.csv\")\n",
    "dataset2 = pl.read_csv(\"./datasets/name_gender.csv\")\n",
    "dataset3 = pl.read_csv(\"./datasets/NationalNames.csv\")"
   ]
  },
  {
   "cell_type": "code",
   "execution_count": null,
   "id": "ea274fa8",
   "metadata": {
    "scrolled": true
   },
   "outputs": [],
   "source": [
    "dataset = pl.concat([dataset1,dataset2,dataset3],how=\"diagonal\")\n",
    "dataset = dataset.select([\"Name\",\"Gender\"])\n",
    "raw_dataset_size = dataset.shape[0]\n",
    "print(f\"The raw dataset contains {raw_dataset_size} names\")"
   ]
  },
  {
   "cell_type": "code",
   "execution_count": null,
   "id": "7b8f359a",
   "metadata": {
    "scrolled": true
   },
   "outputs": [],
   "source": [
    "dataset = dataset.unique()\n",
    "dataset = dataset.drop_nulls()\n",
    "print(f\"There are {dataset.shape[0]} unique names\")"
   ]
  },
  {
   "cell_type": "markdown",
   "id": "05ea866c",
   "metadata": {},
   "source": [
    "# Using LSTM"
   ]
  },
  {
   "cell_type": "code",
   "execution_count": null,
   "id": "b5026222",
   "metadata": {},
   "outputs": [],
   "source": [
    "from keras.preprocessing.text import Tokenizer\n",
    "from keras.utils import pad_sequences, to_categorical\n",
    "from keras.models import Sequential\n",
    "from keras.layers import Dense,LSTM,Embedding,Dropout\n",
    "from sklearn.model_selection import train_test_split\n",
    "from sklearn.preprocessing import LabelEncoder\n",
    "import pickle"
   ]
  },
  {
   "cell_type": "code",
   "execution_count": null,
   "id": "4070ed31",
   "metadata": {},
   "outputs": [],
   "source": [
    "names = list(dataset[\"Name\"])\n",
    "labels = list(dataset[\"Gender\"])\n",
    "\n",
    "\n",
    "tokenizer = Tokenizer(char_level=True)\n",
    "tokenizer.fit_on_texts(names)\n",
    "sequence_of_int = tokenizer.texts_to_sequences(names)\n",
    "padsequences=pad_sequences(sequence_of_int,maxlen=15,padding='post')\n",
    "le = LabelEncoder()\n",
    "labels = le.fit_transform(labels)\n",
    "labels=to_categorical(labels)\n",
    "pickle.dump(tokenizer,open('tokenizer.pkl','wb+'),protocol=pickle.HIGHEST_PROTOCOL)"
   ]
  },
  {
   "cell_type": "code",
   "execution_count": null,
   "id": "3926a628",
   "metadata": {},
   "outputs": [],
   "source": [
    "feature_train,feature_test,label_train,label_test=train_test_split(padsequences,labels,test_size=0.1,random_state=42)"
   ]
  },
  {
   "cell_type": "code",
   "execution_count": null,
   "id": "ee8f2df4",
   "metadata": {},
   "outputs": [],
   "source": [
    "model=Sequential()\n",
    "model.add(Embedding(27,64,input_length=15))\n",
    "model.add(LSTM(2048,return_sequences=True))\n",
    "model.add(LSTM(256,return_sequences=False))\n",
    "model.add(Dropout(0.2))\n",
    "model.add(Dense(2,activation='sigmoid'))\n",
    "model.compile(loss='binary_crossentropy',optimizer='adam',metrics=['accuracy'])\n",
    "model.summary()"
   ]
  },
  {
   "cell_type": "code",
   "execution_count": null,
   "id": "a905b10d",
   "metadata": {
    "scrolled": true
   },
   "outputs": [],
   "source": [
    "model.fit(feature_train,label_train,epochs=1,validation_data=(feature_test,label_test),batch_size=500)\n",
    "model.save('model.h5')"
   ]
  }
 ],
 "metadata": {
  "kernelspec": {
   "display_name": "Python 3 (ipykernel)",
   "language": "python",
   "name": "python3"
  },
  "language_info": {
   "codemirror_mode": {
    "name": "ipython",
    "version": 3
   },
   "file_extension": ".py",
   "mimetype": "text/x-python",
   "name": "python",
   "nbconvert_exporter": "python",
   "pygments_lexer": "ipython3",
   "version": "3.9.2"
  }
 },
 "nbformat": 4,
 "nbformat_minor": 5
}
